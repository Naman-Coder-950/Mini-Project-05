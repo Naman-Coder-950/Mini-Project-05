import time
import os

def generate_dummy_file(file_path, size_mb):
    """
    Creates a dummy text file of given size (in MB) with lowercase text.
    """
    print(f"[+] Generating {file_path} ({size_mb}MB)...")
    chunk = "this is a line of sample text for testing uppercase conversion.\n"
    chunk_size = len(chunk.encode('utf-8'))
    num_lines = (size_mb * 1024 * 1024) // chunk_size

    with open(file_path, 'w') as f:
        for _ in range(num_lines):
            f.write(chunk)

    print(f"    File '{file_path}' created.\n")

def convert_to_uppercase(input_file_path, output_file_path, buffer_size=1024*1024):
    """
    Converts the contents of a large text file to uppercase using buffered read.
    """
    start_time = time.time()

    with open(input_file_path, 'r', encoding='utf-8', errors='ignore') as infile, \
         open(output_file_path, 'w', encoding='utf-8') as outfile:
        while True:
            chunk = infile.read(buffer_size)
            if not chunk:
                break
            outfile.write(chunk.upper())

    end_time = time.time()
    return round(end_time - start_time, 2)

def run_full_test(file_sizes):
    results = []

    for size_mb in file_sizes:
        input_file = f"input_{size_mb}MB.txt"
        output_file = f"output_upper_{size_mb}MB.txt"

        if not os.path.exists(input_file):
            generate_dummy_file(input_file, size_mb)

        print(f"[+] Converting {input_file} to uppercase...")
        time_taken = convert_to_uppercase(input_file, output_file)
        print(f"    Done in {time_taken:.2f} seconds\n")
        results.append((f"{size_mb}MB", time_taken))

    return results

def display_results(results):
    print("\n--- Performance Results ---")
    print(f"{'File Size':<15}{'Time Taken (s)':<15}")
    print("-" * 30)
    for size, time_taken in results:
        print(f"{size:<15}{time_taken:<15}")

if __name__ == "__main__":
    file_sizes_mb = [200, 400, 600, 800, 1000]
    results = run_full_test(file_sizes_mb)
    display_results(results)
