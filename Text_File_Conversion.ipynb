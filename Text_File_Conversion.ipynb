{
  "nbformat": 4,
  "nbformat_minor": 0,
  "metadata": {
    "colab": {
      "provenance": [],
      "authorship_tag": "ABX9TyMgZR0fisB6f8sX9R2x8bdI",
      "include_colab_link": true
    },
    "kernelspec": {
      "name": "python3",
      "display_name": "Python 3"
    },
    "language_info": {
      "name": "python"
    }
  },
  "cells": [
    {
      "cell_type": "markdown",
      "metadata": {
        "id": "view-in-github",
        "colab_type": "text"
      },
      "source": [
        "<a href=\"https://colab.research.google.com/github/Naman-Coder-950/Mini-Project-05/blob/main/Text_File_Conversion.ipynb\" target=\"_parent\"><img src=\"https://colab.research.google.com/assets/colab-badge.svg\" alt=\"Open In Colab\"/></a>"
      ]
    },
    {
      "cell_type": "code",
      "execution_count": 1,
      "metadata": {
        "colab": {
          "base_uri": "https://localhost:8080/"
        },
        "id": "hH9n8dNzTANp",
        "outputId": "d5b2fb88-65bd-4983-988f-ea3d4cfe4f5f"
      },
      "outputs": [
        {
          "output_type": "stream",
          "name": "stdout",
          "text": [
            "[+] Generating input_200MB.txt (200MB)...\n",
            "    File 'input_200MB.txt' created.\n",
            "\n",
            "[+] Converting input_200MB.txt to uppercase...\n",
            "    Done in 0.93 seconds\n",
            "\n",
            "[+] Generating input_400MB.txt (400MB)...\n",
            "    File 'input_400MB.txt' created.\n",
            "\n",
            "[+] Converting input_400MB.txt to uppercase...\n",
            "    Done in 5.03 seconds\n",
            "\n",
            "[+] Generating input_600MB.txt (600MB)...\n",
            "    File 'input_600MB.txt' created.\n",
            "\n",
            "[+] Converting input_600MB.txt to uppercase...\n",
            "    Done in 3.04 seconds\n",
            "\n",
            "[+] Generating input_800MB.txt (800MB)...\n",
            "    File 'input_800MB.txt' created.\n",
            "\n",
            "[+] Converting input_800MB.txt to uppercase...\n",
            "    Done in 3.04 seconds\n",
            "\n",
            "[+] Generating input_1000MB.txt (1000MB)...\n",
            "    File 'input_1000MB.txt' created.\n",
            "\n",
            "[+] Converting input_1000MB.txt to uppercase...\n",
            "    Done in 7.22 seconds\n",
            "\n",
            "\n",
            "--- Performance Results ---\n",
            "File Size      Time Taken (s) \n",
            "------------------------------\n",
            "200MB          0.93           \n",
            "400MB          5.03           \n",
            "600MB          3.04           \n",
            "800MB          3.04           \n",
            "1000MB         7.22           \n"
          ]
        }
      ],
      "source": [
        "import time\n",
        "import os\n",
        "\n",
        "def generate_dummy_file(file_path, size_mb):\n",
        "    \"\"\"\n",
        "    Creates a dummy text file of given size (in MB) with lowercase text.\n",
        "    \"\"\"\n",
        "    print(f\"[+] Generating {file_path} ({size_mb}MB)...\")\n",
        "    chunk = \"this is a line of sample text for testing uppercase conversion.\\n\"\n",
        "    chunk_size = len(chunk.encode('utf-8'))\n",
        "    num_lines = (size_mb * 1024 * 1024) // chunk_size\n",
        "\n",
        "    with open(file_path, 'w') as f:\n",
        "        for _ in range(num_lines):\n",
        "            f.write(chunk)\n",
        "\n",
        "    print(f\"    File '{file_path}' created.\\n\")\n",
        "\n",
        "def convert_to_uppercase(input_file_path, output_file_path, buffer_size=1024*1024):\n",
        "    \"\"\"\n",
        "    Converts the contents of a large text file to uppercase using buffered read.\n",
        "    \"\"\"\n",
        "    start_time = time.time()\n",
        "\n",
        "    with open(input_file_path, 'r', encoding='utf-8', errors='ignore') as infile, \\\n",
        "         open(output_file_path, 'w', encoding='utf-8') as outfile:\n",
        "        while True:\n",
        "            chunk = infile.read(buffer_size)\n",
        "            if not chunk:\n",
        "                break\n",
        "            outfile.write(chunk.upper())\n",
        "\n",
        "    end_time = time.time()\n",
        "    return round(end_time - start_time, 2)\n",
        "\n",
        "def run_full_test(file_sizes):\n",
        "    results = []\n",
        "\n",
        "    for size_mb in file_sizes:\n",
        "        input_file = f\"input_{size_mb}MB.txt\"\n",
        "        output_file = f\"output_upper_{size_mb}MB.txt\"\n",
        "\n",
        "        if not os.path.exists(input_file):\n",
        "            generate_dummy_file(input_file, size_mb)\n",
        "\n",
        "        print(f\"[+] Converting {input_file} to uppercase...\")\n",
        "        time_taken = convert_to_uppercase(input_file, output_file)\n",
        "        print(f\"    Done in {time_taken:.2f} seconds\\n\")\n",
        "        results.append((f\"{size_mb}MB\", time_taken))\n",
        "\n",
        "    return results\n",
        "\n",
        "def display_results(results):\n",
        "    print(\"\\n--- Performance Results ---\")\n",
        "    print(f\"{'File Size':<15}{'Time Taken (s)':<15}\")\n",
        "    print(\"-\" * 30)\n",
        "    for size, time_taken in results:\n",
        "        print(f\"{size:<15}{time_taken:<15}\")\n",
        "\n",
        "if __name__ == \"__main__\":\n",
        "    file_sizes_mb = [200, 400, 600, 800, 1000]\n",
        "    results = run_full_test(file_sizes_mb)\n",
        "    display_results(results)"
      ]
    }
  ]
}